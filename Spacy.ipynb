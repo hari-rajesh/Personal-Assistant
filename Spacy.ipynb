{
 "cells": [
  {
   "cell_type": "code",
   "execution_count": 4,
   "id": "7ccad38c-f518-48ff-809e-89512bc4d6de",
   "metadata": {},
   "outputs": [],
   "source": [
    "import spacy"
   ]
  },
  {
   "cell_type": "code",
   "execution_count": 5,
   "id": "d3640b8e-94b3-459f-9ae3-16b498ba450b",
   "metadata": {},
   "outputs": [
    {
     "name": "stdout",
     "output_type": "stream",
     "text": [
      "Jude loves Vada.\n",
      "Prathisha loves Jude\n"
     ]
    }
   ],
   "source": [
    "nlp = spacy.load(\"en_core_web_sm\")\n",
    "#npl.add_pip(\"sentencizer\")\n",
    "doc = nlp(\"Jude loves Vada. Prathisha loves Jude\")\n",
    "for i in doc.sents:\n",
    "  print(i)"
   ]
  },
  {
   "cell_type": "code",
   "execution_count": 6,
   "id": "556fa9b9-58e5-4453-822e-b38fe446e588",
   "metadata": {},
   "outputs": [
    {
     "name": "stdout",
     "output_type": "stream",
     "text": [
      "Jude\n",
      "loves\n",
      "Vada\n",
      ".\n",
      "Prathisha\n",
      "loves\n",
      "Jude\n"
     ]
    }
   ],
   "source": [
    "for i in doc.sents:\n",
    "  for j in i:\n",
    "    print(j)"
   ]
  },
  {
   "cell_type": "code",
   "execution_count": 7,
   "id": "29d047ab-1a9b-4ee2-ad60-aafbbb069192",
   "metadata": {},
   "outputs": [],
   "source": [
    "nlp = spacy.load(\"en_core_web_sm\")"
   ]
  },
  {
   "cell_type": "code",
   "execution_count": 8,
   "id": "4ff21745-c425-4042-b0c4-dc6917f62c10",
   "metadata": {},
   "outputs": [
    {
     "name": "stdout",
     "output_type": "stream",
     "text": [
      "Jude    PROPN    Jude\n",
      "loves    VERB    love\n",
      "Vada    PROPN    Vada\n",
      ".    PUNCT    .\n",
      "Prathisha    PROPN    Prathisha\n",
      "loves    VERB    love\n",
      "Jude    PROPN    Jude\n"
     ]
    }
   ],
   "source": [
    "doc = nlp(\"Jude loves Vada. Prathisha loves Jude\") #Tokenizing\n",
    "for i in doc:\n",
    "    print(i, \"  \", i.pos_, \"  \", i.lemma_)"
   ]
  },
  {
   "cell_type": "code",
   "execution_count": 9,
   "id": "12b25013-23e4-49ce-a5cd-2a381c122d40",
   "metadata": {},
   "outputs": [
    {
     "data": {
      "text/plain": [
       "[('tok2vec', <spacy.pipeline.tok2vec.Tok2Vec at 0x1fb0636a510>),\n",
       " ('tagger', <spacy.pipeline.tagger.Tagger at 0x1fb0636b7d0>),\n",
       " ('parser', <spacy.pipeline.dep_parser.DependencyParser at 0x1fb06b82880>),\n",
       " ('attribute_ruler',\n",
       "  <spacy.pipeline.attributeruler.AttributeRuler at 0x1fb082fd0d0>),\n",
       " ('lemmatizer', <spacy.lang.en.lemmatizer.EnglishLemmatizer at 0x1fb082da210>),\n",
       " ('ner', <spacy.pipeline.ner.EntityRecognizer at 0x1fb06b82a40>)]"
      ]
     },
     "execution_count": 9,
     "metadata": {},
     "output_type": "execute_result"
    }
   ],
   "source": [
    "nlp.pipeline"
   ]
  },
  {
   "cell_type": "code",
   "execution_count": 10,
   "id": "1161f74e-bd72-4812-88e8-7bb72153312b",
   "metadata": {},
   "outputs": [
    {
     "name": "stdout",
     "output_type": "stream",
     "text": [
      "Jude PERSON People, including fictional\n",
      "Vada GPE Countries, cities, states\n",
      "Prathisha PERSON People, including fictional\n",
      "Jude PERSON People, including fictional\n"
     ]
    }
   ],
   "source": [
    "doc = nlp(\"Jude loves Vada. Prathisha loves Jude\")\n",
    "for ent in doc.ents:\n",
    "    print(ent.text, ent.label_, spacy.explain(ent.label_))"
   ]
  },
  {
   "cell_type": "code",
   "execution_count": 16,
   "id": "4bcd4ffe-796b-46b3-beff-0e889f3af607",
   "metadata": {},
   "outputs": [
    {
     "data": {
      "text/plain": [
       "True"
      ]
     },
     "execution_count": 16,
     "metadata": {},
     "output_type": "execute_result"
    }
   ],
   "source": [
    "nlp = spacy.load(\"en_core_web_sm\")\n",
    "doc = nlp(\"Jude loves Vada. Prathisha loves Jude\")\n",
    "token0 = doc[0]\n",
    "token0.is_alpha\n",
    "token0.like_num\n",
    "token0.like_email"
   ]
  },
  {
   "cell_type": "code",
   "execution_count": 17,
   "id": "b2297f8a-a658-4826-9f4a-54c92221e24a",
   "metadata": {},
   "outputs": [
    {
     "data": {
      "text/plain": [
       "['gimme', 'more', 'cheese', 'with', 'this', 'Burger']"
      ]
     },
     "execution_count": 17,
     "metadata": {},
     "output_type": "execute_result"
    }
   ],
   "source": [
    "doc = nlp(\"gimme more cheese with this Burger\")\n",
    "tokens = [token.text for token in doc]\n",
    "tokens"
   ]
  },
  {
   "cell_type": "code",
   "execution_count": 23,
   "id": "c32ff43f-316e-429e-92b6-4d38578f5c54",
   "metadata": {},
   "outputs": [
    {
     "name": "stdout",
     "output_type": "stream",
     "text": [
      "gimme more cheese with this Burger.\n",
      "I would like to have it\n"
     ]
    }
   ],
   "source": [
    "from spacy.symbols import ORTH\n",
    "nlp.tokenizer.add_special_case(\"gimme\", [\n",
    "    {ORTH:\"gim\"},\n",
    "    {ORTH:\"me\"}\n",
    "])\n",
    "doc = nlp(\"gimme more cheese with this Burger. I would like to have it\")\n",
    "# tokens = [token.text for token in doc]\n",
    "\n",
    "# tokens\n",
    "\n",
    "for sentence in doc.sents:\n",
    "    print(sentence)"
   ]
  },
  {
   "cell_type": "code",
   "execution_count": null,
   "id": "3d3f6797-5802-415f-a2e8-d5318a142edd",
   "metadata": {},
   "outputs": [],
   "source": []
  }
 ],
 "metadata": {
  "kernelspec": {
   "display_name": "Python 3 (ipykernel)",
   "language": "python",
   "name": "python3"
  },
  "language_info": {
   "codemirror_mode": {
    "name": "ipython",
    "version": 3
   },
   "file_extension": ".py",
   "mimetype": "text/x-python",
   "name": "python",
   "nbconvert_exporter": "python",
   "pygments_lexer": "ipython3",
   "version": "3.12.3"
  }
 },
 "nbformat": 4,
 "nbformat_minor": 5
}
